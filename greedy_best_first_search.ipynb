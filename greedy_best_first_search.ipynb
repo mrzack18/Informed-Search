{
 "cells": [
  {
   "cell_type": "markdown",
   "metadata": {},
   "source": [
    "# **Greedy Best First Search**"
   ]
  },
  {
   "cell_type": "code",
   "execution_count": 12,
   "metadata": {},
   "outputs": [
    {
     "name": "stdout",
     "output_type": "stream",
     "text": [
      "Simpul tujuan ditemukan!\n",
      "Jalur terpendek: ['S', 'B', 'D', 'G']\n"
     ]
    },
    {
     "data": {
      "text/plain": [
       "['S', 'B', 'D', 'G']"
      ]
     },
     "execution_count": 12,
     "metadata": {},
     "output_type": "execute_result"
    }
   ],
   "source": [
    "from queue import PriorityQueue\n",
    "\n",
    "# Fungsi untuk merekonstruksi jalur\n",
    "def reconstruct_path(came_from, start, goal):\n",
    "    current = goal\n",
    "    path = []\n",
    "\n",
    "    while current != start:\n",
    "        path.append(current)\n",
    "        current = came_from[current]\n",
    "\n",
    "    path.append(start)\n",
    "    path.reverse()\n",
    "    return path\n",
    "\n",
    "# Fungsi algoritma Greedy Best-First Search\n",
    "def greedy_search(graph, start, goal, heuristic):\n",
    "    frontier = PriorityQueue()  # Antrian prioritas\n",
    "    frontier.put((heuristic[start], start))  # Tambahkan simpul awal\n",
    "    came_from = {}  # Menyimpan jalur\n",
    "    explored = set()  # Menyimpan simpul yang sudah dikunjungi\n",
    "\n",
    "    while not frontier.empty():\n",
    "        _, current_node = frontier.get()  # Ambil simpul dengan nilai heuristik terkecil\n",
    "\n",
    "        if current_node == goal:\n",
    "            print(\"Simpul tujuan ditemukan!\")\n",
    "            path = reconstruct_path(came_from, start, goal)\n",
    "            print(\"Jalur terpendek:\", path)\n",
    "            return path  # Kembalikan jalur yang ditemukan\n",
    "\n",
    "        explored.add(current_node)\n",
    "\n",
    "        for neighbor in graph[current_node]:\n",
    "            if neighbor not in explored:\n",
    "                frontier.put((heuristic[neighbor], neighbor))\n",
    "                came_from[neighbor] = current_node  # Simpan jalur\n",
    "\n",
    "    print(\"Simpul tujuan tidak ditemukan!\")\n",
    "    return None\n",
    "\n",
    "# Daftar heuristik berdasarkan gambar\n",
    "heuristic = {\n",
    "    'S': 6,\n",
    "    'A': 4,\n",
    "    'B': 3,\n",
    "    'C': 3,\n",
    "    'D': 1,\n",
    "    'G': 0\n",
    "}\n",
    "\n",
    "# Representasi graf (dengan biaya)\n",
    "graph = {\n",
    "    'S': ['A', 'B'],\n",
    "    'A': ['B', 'D'],\n",
    "    'B': ['C', 'D'],\n",
    "    'C': ['G', 'D'],\n",
    "    'D': ['G']\n",
    "}\n",
    "\n",
    "# Titik awal dan tujuan\n",
    "start_node = 'S'\n",
    "goal_node = 'G'\n",
    "\n",
    "# Panggil fungsi greedy search\n",
    "greedy_search(graph, start_node, goal_node, heuristic)"
   ]
  }
 ],
 "metadata": {
  "kernelspec": {
   "display_name": "Python 3",
   "language": "python",
   "name": "python3"
  },
  "language_info": {
   "codemirror_mode": {
    "name": "ipython",
    "version": 3
   },
   "file_extension": ".py",
   "mimetype": "text/x-python",
   "name": "python",
   "nbconvert_exporter": "python",
   "pygments_lexer": "ipython3",
   "version": "3.12.6"
  }
 },
 "nbformat": 4,
 "nbformat_minor": 2
}
